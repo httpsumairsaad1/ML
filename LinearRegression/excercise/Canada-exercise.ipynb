{
 "cells": [
  {
   "cell_type": "code",
   "execution_count": 49,
   "id": "145c280e-c69d-447d-8a3c-c3c2f8381921",
   "metadata": {},
   "outputs": [],
   "source": [
    "import pandas as pd\n",
    "import numpy as np\n",
    "from sklearn import linear_model\n",
    "import matplotlib.pyplot as plt"
   ]
  },
  {
   "cell_type": "code",
   "execution_count": 57,
   "id": "98f25093-7181-4bf0-acd6-e848e78a6314",
   "metadata": {},
   "outputs": [
    {
     "name": "stdout",
     "output_type": "stream",
     "text": [
      "   Area   Price\n",
      "0  2700  560000\n",
      "1  3000  580000\n",
      "2  3500  635000\n",
      "3  3200  610000\n",
      "4  3900  710000\n",
      "5  2800  575000\n",
      "6  4000  725000\n"
     ]
    }
   ],
   "source": [
    "df = pd.read_excel(r\"C:\\Users\\sabah computer\\Downloads\\homeSell_LR.xlsx\");\n",
    "print(df) # dataframe."
   ]
  },
  {
   "cell_type": "code",
   "execution_count": 103,
   "id": "b8b9e8f8-9a5b-4d83-bdf2-741a07aedab0",
   "metadata": {},
   "outputs": [
    {
     "name": "stdout",
     "output_type": "stream",
     "text": [
      "   year  per capita income (US$)\n",
      "0  1970              3399.299037\n",
      "1  1971              3768.297935\n",
      "2  1972              4251.175484\n",
      "3  1973              4804.463248\n",
      "4  1974              5576.514583\n"
     ]
    }
   ],
   "source": [
    "df = pd.read_csv(r\"C:\\Users\\sabah computer\\Downloads\\canada_per_capita_income.csv\")\n",
    "print(df.head())"
   ]
  },
  {
   "cell_type": "code",
   "execution_count": 119,
   "id": "aa876ceb-04c2-44b8-94a7-0eafc254b54f",
   "metadata": {},
   "outputs": [
    {
     "data": {
      "text/plain": [
       "<matplotlib.collections.PathCollection at 0x15084b34170>"
      ]
     },
     "execution_count": 119,
     "metadata": {},
     "output_type": "execute_result"
    },
    {
     "data": {
      "image/png": "[encoded data removed]",
      "text/plain": [
       "<Figure size 640x480 with 1 Axes>"
      ]
     },
     "metadata": {},
     "output_type": "display_data"
    }
   ],
   "source": [
    "%matplotlib inline\n",
    "plt.xlabel('Year');\n",
    "plt.ylabel('Per Capital Income (US$)')\n",
    "plt.scatter(df['year'], df['per capita income (US$)'], marker=\"+\", color=\"red\")"
   ]
  },
  {
   "cell_type": "code",
   "execution_count": 111,
   "id": "a531f6b1-7856-4c18-9d6a-751f575888a5",
   "metadata": {},
   "outputs": [
    {
     "name": "stdout",
     "output_type": "stream",
     "text": [
      "   year\n",
      "0  1970\n",
      "1  1971\n",
      "2  1972\n",
      "3  1973\n",
      "4  1974\n"
     ]
    }
   ],
   "source": [
    "# New DataFrame for the year\n",
    "new_df_year = df.drop('per capita income (US$)', axis='columns')\n",
    "print(new_df_year.head())"
   ]
  },
  {
   "cell_type": "code",
   "execution_count": 123,
   "id": "942bd443-653f-4d9d-9bbe-f62145c7f83e",
   "metadata": {},
   "outputs": [
    {
     "name": "stdout",
     "output_type": "stream",
     "text": [
      "   per capita income (US$)\n",
      "0              3399.299037\n",
      "1              3768.297935\n",
      "2              4251.175484\n",
      "3              4804.463248\n",
      "4              5576.514583\n"
     ]
    }
   ],
   "source": [
    "# New DataFrame for the income\n",
    "new_df_income = df.drop('year', axis='columns')\n",
    "print(new_df_income.head())"
   ]
  },
  {
   "cell_type": "code",
   "execution_count": 131,
   "id": "ffbc7c91-5ce0-405f-8ac3-90391ff48825",
   "metadata": {},
   "outputs": [
    {
     "name": "stdout",
     "output_type": "stream",
     "text": [
      "    year  per capita income (US$)\n",
      "0   1970              3399.299037\n",
      "1   1971              3768.297935\n",
      "2   1972              4251.175484\n",
      "3   1973              4804.463248\n",
      "4   1974              5576.514583\n",
      "5   1975              5998.144346\n",
      "6   1976              7062.131392\n",
      "7   1977              7100.126170\n",
      "8   1978              7247.967035\n",
      "9   1979              7602.912681\n",
      "10  1980              8355.968120\n",
      "11  1981              9434.390652\n",
      "12  1982              9619.438377\n",
      "13  1983             10416.536590\n",
      "14  1984             10790.328720\n",
      "15  1985             11018.955850\n",
      "16  1986             11482.891530\n",
      "17  1987             12974.806620\n",
      "18  1988             15080.283450\n",
      "19  1989             16426.725480\n",
      "20  1990             16838.673200\n",
      "21  1991             17266.097690\n",
      "22  1992             16412.083090\n",
      "23  1993             15875.586730\n",
      "24  1994             15755.820270\n",
      "25  1995             16369.317250\n",
      "26  1996             16699.826680\n",
      "27  1997             17310.757750\n",
      "28  1998             16622.671870\n",
      "29  1999             17581.024140\n",
      "30  2000             18987.382410\n",
      "31  2001             18601.397240\n",
      "32  2002             19232.175560\n",
      "33  2003             22739.426280\n",
      "34  2004             25719.147150\n",
      "35  2005             29198.055690\n",
      "36  2006             32738.262900\n",
      "37  2007             36144.481220\n",
      "38  2008             37446.486090\n",
      "39  2009             32755.176820\n",
      "40  2010             38420.522890\n",
      "41  2011             42334.711210\n",
      "42  2012             42665.255970\n",
      "43  2013             42676.468370\n",
      "44  2014             41039.893600\n",
      "45  2015             35175.188980\n",
      "46  2016             34229.193630\n"
     ]
    }
   ],
   "source": [
    "print(df)"
   ]
  },
  {
   "cell_type": "code",
   "execution_count": 137,
   "id": "48282dda-6bf0-48ef-bbc4-0d2aee1005a5",
   "metadata": {},
   "outputs": [
    {
     "name": "stderr",
     "output_type": "stream",
     "text": [
      "C:\\Users\\sabah computer\\anaconda3\\Lib\\site-packages\\sklearn\\base.py:493: UserWarning: X does not have valid feature names, but LinearRegression was fitted with feature names\n",
      "  warnings.warn(\n"
     ]
    },
    {
     "data": {
      "text/plain": [
       "array([41288.69409442])"
      ]
     },
     "execution_count": 137,
     "metadata": {},
     "output_type": "execute_result"
    }
   ],
   "source": [
    "new_df = df[['year']]\n",
    "target_price = df['per capita income (US$)']\n",
    "model = linear_model.LinearRegression()\n",
    "model.fit(new_df, target_price)  # Fit the model with Area as the feature and Price as the target\n",
    "model.predict([[2020]])"
   ]
  },
  {
   "cell_type": "code",
   "execution_count": null,
   "id": "51994b6d-d692-4121-8f5b-41a0991c2c1b",
   "metadata": {},
   "outputs": [],
   "source": [
    "p = [[2000]]"
   ]
  }
 ],
 "metadata": {
  "kernelspec": {
   "display_name": "Python 3 (ipykernel)",
   "language": "python",
   "name": "python3"
  },
  "language_info": {
   "codemirror_mode": {
    "name": "ipython",
    "version": 3
   },
   "file_extension": ".py",
   "mimetype": "text/x-python",
   "name": "python",
   "nbconvert_exporter": "python",
   "pygments_lexer": "ipython3",
   "version": "3.12.4"
  }
 },
 "nbformat": 4,
 "nbformat_minor": 5
}
