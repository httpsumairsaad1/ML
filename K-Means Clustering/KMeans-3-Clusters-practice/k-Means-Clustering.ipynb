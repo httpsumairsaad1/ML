{
 "cells": [
  {
   "cell_type": "markdown",
   "id": "aad02fbd-18d3-4a1c-a06a-fc39c4f1f45b",
   "metadata": {},
   "source": [
    "# **K Means Clustering**"
   ]
  },
  {
   "cell_type": "code",
   "execution_count": 26,
   "id": "4070cad8-b7b7-41ec-95fb-39f595ea916a",
   "metadata": {},
   "outputs": [],
   "source": [
    "from sklearn.cluster import KMeans\n",
    "import pandas as pd\n",
    "from sklearn.preprocessing import MinMaxScaler\n",
    "from matplotlib import pyplot as plt\n",
    "%matplotlib inline"
   ]
  },
  {
   "cell_type": "code",
   "execution_count": 22,
   "id": "e218bea4-7952-465b-a024-17dd0562c730",
   "metadata": {},
   "outputs": [
    {
     "data": {
      "text/html": [
       "<div>\n",
       "<style scoped>\n",
       "    .dataframe tbody tr th:only-of-type {\n",
       "        vertical-align: middle;\n",
       "    }\n",
       "\n",
       "    .dataframe tbody tr th {\n",
       "        vertical-align: top;\n",
       "    }\n",
       "\n",
       "    .dataframe thead th {\n",
       "        text-align: right;\n",
       "    }\n",
       "</style>\n",
       "<table border=\"1\" class=\"dataframe\">\n",
       "  <thead>\n",
       "    <tr style=\"text-align: right;\">\n",
       "      <th></th>\n",
       "      <th>Name</th>\n",
       "      <th>Age</th>\n",
       "      <th>Income</th>\n",
       "    </tr>\n",
       "  </thead>\n",
       "  <tbody>\n",
       "    <tr>\n",
       "      <th>0</th>\n",
       "      <td>Omar</td>\n",
       "      <td>43</td>\n",
       "      <td>47941</td>\n",
       "    </tr>\n",
       "    <tr>\n",
       "      <th>1</th>\n",
       "      <td>Zainab</td>\n",
       "      <td>49</td>\n",
       "      <td>100493</td>\n",
       "    </tr>\n",
       "    <tr>\n",
       "      <th>2</th>\n",
       "      <td>Nida</td>\n",
       "      <td>20</td>\n",
       "      <td>137850</td>\n",
       "    </tr>\n",
       "    <tr>\n",
       "      <th>3</th>\n",
       "      <td>Iqra</td>\n",
       "      <td>24</td>\n",
       "      <td>81255</td>\n",
       "    </tr>\n",
       "    <tr>\n",
       "      <th>4</th>\n",
       "      <td>Nida</td>\n",
       "      <td>43</td>\n",
       "      <td>133723</td>\n",
       "    </tr>\n",
       "  </tbody>\n",
       "</table>\n",
       "</div>"
      ],
      "text/plain": [
       "     Name  Age  Income\n",
       "0    Omar   43   47941\n",
       "1  Zainab   49  100493\n",
       "2    Nida   20  137850\n",
       "3    Iqra   24   81255\n",
       "4    Nida   43  133723"
      ]
     },
     "execution_count": 22,
     "metadata": {},
     "output_type": "execute_result"
    }
   ],
   "source": [
    "df = pd.read_csv(r'C:\\Users\\sabah computer\\Downloads\\pakistani_fake_data.csv')\n",
    "df.head() # total data of 25 rows "
   ]
  },
  {
   "cell_type": "code",
   "execution_count": 34,
   "id": "dab5f3e2-d416-47bb-8940-898ae3ea668d",
   "metadata": {},
   "outputs": [
    {
     "data": {
      "text/plain": [
       "Text(0, 0.5, 'Income')"
      ]
     },
     "execution_count": 34,
     "metadata": {},
     "output_type": "execute_result"
    },
    {
     "data": {
      "image/png": "[encoded data removed]",
      "text/plain": [
       "<Figure size 640x480 with 1 Axes>"
      ]
     },
     "metadata": {},
     "output_type": "display_data"
    }
   ],
   "source": [
    "plt.scatter(df.Age, df['Income'])\n",
    "plt.xlabel('Age')\n",
    "plt.ylabel('Income')"
   ]
  },
  {
   "cell_type": "markdown",
   "id": "eac2d444-a40b-4e2b-aa41-caf54a312bc6",
   "metadata": {},
   "source": [
    "### **Clustering Data by Age and Income using K-Means**"
   ]
  },
  {
   "cell_type": "code",
   "execution_count": 47,
   "id": "7401a510-d832-49af-b9a2-20164a5c12b3",
   "metadata": {},
   "outputs": [
    {
     "name": "stderr",
     "output_type": "stream",
     "text": [
      "C:\\Users\\sabah computer\\anaconda3\\Lib\\site-packages\\sklearn\\cluster\\_kmeans.py:1446: UserWarning: KMeans is known to have a memory leak on Windows with MKL, when there are less chunks than available threads. You can avoid it by setting the environment variable OMP_NUM_THREADS=1.\n",
      "  warnings.warn(\n"
     ]
    },
    {
     "data": {
      "text/plain": [
       "array([1, 2, 0, 2, 0, 0, 2, 1, 2, 1, 0, 2, 1, 2, 0, 2, 2, 1, 1, 0, 1, 2,\n",
       "       0, 0, 2])"
      ]
     },
     "execution_count": 47,
     "metadata": {},
     "output_type": "execute_result"
    }
   ],
   "source": [
    "km = KMeans(n_clusters=3)\n",
    "y_predicted = km.fit_predict(df[['Age', 'Income']])\n",
    "y_predicted"
   ]
  },
  {
   "cell_type": "markdown",
   "id": "598f9c64-61ab-440f-8629-52725760876d",
   "metadata": {},
   "source": [
    "### **Specific Cluster**"
   ]
  },
  {
   "cell_type": "code",
   "execution_count": 56,
   "id": "cf73933f-d634-4dba-a672-3c3adccfbc20",
   "metadata": {},
   "outputs": [
    {
     "data": {
      "text/html": [
       "<div>\n",
       "<style scoped>\n",
       "    .dataframe tbody tr th:only-of-type {\n",
       "        vertical-align: middle;\n",
       "    }\n",
       "\n",
       "    .dataframe tbody tr th {\n",
       "        vertical-align: top;\n",
       "    }\n",
       "\n",
       "    .dataframe thead th {\n",
       "        text-align: right;\n",
       "    }\n",
       "</style>\n",
       "<table border=\"1\" class=\"dataframe\">\n",
       "  <thead>\n",
       "    <tr style=\"text-align: right;\">\n",
       "      <th></th>\n",
       "      <th>Name</th>\n",
       "      <th>Age</th>\n",
       "      <th>Income</th>\n",
       "      <th>cluster</th>\n",
       "    </tr>\n",
       "  </thead>\n",
       "  <tbody>\n",
       "    <tr>\n",
       "      <th>0</th>\n",
       "      <td>Omar</td>\n",
       "      <td>43</td>\n",
       "      <td>47941</td>\n",
       "      <td>1</td>\n",
       "    </tr>\n",
       "    <tr>\n",
       "      <th>1</th>\n",
       "      <td>Zainab</td>\n",
       "      <td>49</td>\n",
       "      <td>100493</td>\n",
       "      <td>2</td>\n",
       "    </tr>\n",
       "    <tr>\n",
       "      <th>2</th>\n",
       "      <td>Nida</td>\n",
       "      <td>20</td>\n",
       "      <td>137850</td>\n",
       "      <td>0</td>\n",
       "    </tr>\n",
       "    <tr>\n",
       "      <th>3</th>\n",
       "      <td>Iqra</td>\n",
       "      <td>24</td>\n",
       "      <td>81255</td>\n",
       "      <td>2</td>\n",
       "    </tr>\n",
       "    <tr>\n",
       "      <th>4</th>\n",
       "      <td>Nida</td>\n",
       "      <td>43</td>\n",
       "      <td>133723</td>\n",
       "      <td>0</td>\n",
       "    </tr>\n",
       "  </tbody>\n",
       "</table>\n",
       "</div>"
      ],
      "text/plain": [
       "     Name  Age  Income  cluster\n",
       "0    Omar   43   47941        1\n",
       "1  Zainab   49  100493        2\n",
       "2    Nida   20  137850        0\n",
       "3    Iqra   24   81255        2\n",
       "4    Nida   43  133723        0"
      ]
     },
     "execution_count": 56,
     "metadata": {},
     "output_type": "execute_result"
    }
   ],
   "source": [
    "df['cluster'] = y_predicted\n",
    "df.head()"
   ]
  },
  {
   "cell_type": "markdown",
   "id": "3aa27724-3ce4-491a-9029-1f9f0d369fda",
   "metadata": {},
   "source": [
    "### **Plotting**"
   ]
  },
  {
   "cell_type": "code",
   "execution_count": 58,
   "id": "bc5d1c77-67ba-4b8b-a4ef-5e7471679db6",
   "metadata": {},
   "outputs": [
    {
     "data": {
      "image/png": "[encoded data removed]",
      "text/plain": [
       "<Figure size 640x480 with 1 Axes>"
      ]
     },
     "metadata": {},
     "output_type": "display_data"
    }
   ],
   "source": [
    "# Plot clusters\n",
    "plt.scatter(df.Age[df.cluster == 0], df.Income[df.cluster == 0], color='red', label='Cluster 1')\n",
    "plt.scatter(df.Age[df.cluster == 1], df.Income[df.cluster == 1], color='green', label='Cluster 2')\n",
    "plt.scatter(df.Age[df.cluster == 2], df.Income[df.cluster == 2], color='blue', label='Cluster 3')\n",
    "\n",
    "# Plot cluster centers\n",
    "plt.scatter(km.cluster_centers_[:, 0], km.cluster_centers_[:, 1], color='purple', marker='x', label='Centroids')\n",
    "\n",
    "plt.xlabel('Age')\n",
    "plt.ylabel('Income')\n",
    "plt.legend()\n",
    "\n",
    "plt.show()"
   ]
  },
  {
   "cell_type": "code",
   "execution_count": 60,
   "id": "00e784ba-d973-49b6-aa8a-db1037c2f634",
   "metadata": {},
   "outputs": [
    {
     "data": {
      "text/plain": [
       "array([[3.43750000e+01, 1.32794000e+05],\n",
       "       [3.82857143e+01, 4.10717143e+04],\n",
       "       [3.54000000e+01, 8.32691000e+04]])"
      ]
     },
     "execution_count": 60,
     "metadata": {},
     "output_type": "execute_result"
    }
   ],
   "source": [
    "km.cluster_centers_"
   ]
  },
  {
   "cell_type": "markdown",
   "id": "bdf49cc9-3dec-4bff-a0fc-9942b6cdfffd",
   "metadata": {},
   "source": [
    "### **Elbow Technique**"
   ]
  },
  {
   "cell_type": "code",
   "execution_count": 76,
   "id": "b2111bd2-d253-4162-b99b-c55f807ca40a",
   "metadata": {},
   "outputs": [
    {
     "data": {
      "text/plain": [
       "[35192586336.64,\n",
       " 9245268559.566666,\n",
       " 3119630084.7111106,\n",
       " 1527580244.1488097,\n",
       " 736832473.5833334,\n",
       " 491685719.9166667,\n",
       " 505261416.3333334,\n",
       " 336593958.8333333,\n",
       " 250128688.6666667]"
      ]
     },
     "execution_count": 76,
     "metadata": {},
     "output_type": "execute_result"
    }
   ],
   "source": [
    "sse"
   ]
  },
  {
   "cell_type": "code",
   "execution_count": 70,
   "id": "71995555-e173-4391-8ba6-f034c7e5a50d",
   "metadata": {},
   "outputs": [
    {
     "data": {
      "text/plain": [
       "[35192586336.64,\n",
       " 9245268559.566666,\n",
       " 3119630084.7111106,\n",
       " 1527580244.1488097,\n",
       " 736832473.5833334,\n",
       " 672019358.75,\n",
       " 382221868.9166667,\n",
       " 268212376.6666667,\n",
       " 204557677.25]"
      ]
     },
     "execution_count": 70,
     "metadata": {},
     "output_type": "execute_result"
    }
   ],
   "source": [
    "import os\n",
    "os.environ['OMP_NUM_THREADS'] = '1'\n",
    "\n",
    "sse = []\n",
    "k_rng = range(1, 10)\n",
    "for k in k_rng:\n",
    "    km = KMeans(n_clusters=k)\n",
    "    km.fit(df[['Age', 'Income']])\n",
    "    sse.append(km.inertia_)"
   ]
  },
  {
   "cell_type": "code",
   "execution_count": 72,
   "id": "4d875c65-14cf-4c64-ac29-d1b9d9a1ad79",
   "metadata": {},
   "outputs": [
    {
     "data": {
      "text/plain": [
       "[<matplotlib.lines.Line2D at 0x2873e30e630>]"
      ]
     },
     "execution_count": 72,
     "metadata": {},
     "output_type": "execute_result"
    },
    {
     "data": {
      "image/png": "[encoded data removed]",
      "text/plain": [
       "<Figure size 640x480 with 1 Axes>"
      ]
     },
     "metadata": {},
     "output_type": "display_data"
    }
   ],
   "source": [
    "plt.plot(k_rng, sse)"
   ]
  }
 ],
 "metadata": {
  "kernelspec": {
   "display_name": "Python 3 (ipykernel)",
   "language": "python",
   "name": "python3"
  },
  "language_info": {
   "codemirror_mode": {
    "name": "ipython",
    "version": 3
   },
   "file_extension": ".py",
   "mimetype": "text/x-python",
   "name": "python",
   "nbconvert_exporter": "python",
   "pygments_lexer": "ipython3",
   "version": "3.12.4"
  }
 },
 "nbformat": 4,
 "nbformat_minor": 5
}
