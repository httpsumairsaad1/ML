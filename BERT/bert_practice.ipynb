{
  "nbformat": 4,
  "nbformat_minor": 0,
  "metadata": {
    "colab": {
      "provenance": []
    },
    "kernelspec": {
      "name": "python3",
      "display_name": "Python 3"
    },
    "language_info": {
      "name": "python"
    }
  },
  "cells": [
    {
      "cell_type": "code",
      "execution_count": null,
      "metadata": {
        "colab": {
          "base_uri": "https://localhost:8080/"
        },
        "id": "qzQCHCZefvEF",
        "outputId": "e15b3400-eae2-4097-e5c8-26886a31f2c9"
      },
      "outputs": [
        {
          "output_type": "stream",
          "name": "stdout",
          "text": [
            "Keys       : ['input_type_ids', 'input_mask', 'input_word_ids']\n",
            "Shape      : (1, 128)\n",
            "Word Ids   : [ 101 2023 2003 2107 2019 6429 3185  999  102    0    0    0]\n",
            "Input Mask : [1 1 1 1 1 1 1 1 1 0 0 0]\n",
            "Type Ids   : [0 0 0 0 0 0 0 0 0 0 0 0]\n",
            "Pooled Outputs Shape:(1, 768)\n",
            "Pooled Outputs Values:[-0.92169875 -0.3935342  -0.53931606  0.6825619   0.4384839  -0.14021125\n",
            "  0.87747097  0.26043317 -0.63112885 -0.9999658  -0.26319948  0.85105264]\n",
            "Sequence Outputs Shape:(1, 128, 768)\n",
            "Sequence Outputs Values:[[ 0.19451576  0.25141677  0.19075006 ... -0.24845082  0.38568527\n",
            "   0.13291025]\n",
            " [-0.5947867  -0.39420342  0.2524567  ... -0.7694671   1.1564164\n",
            "   0.32475752]\n",
            " [ 0.00641505 -0.15766458  0.5461021  ... -0.17451009  0.6028967\n",
            "   0.42672247]\n",
            " ...\n",
            " [ 0.21948344 -0.20927092  0.53868306 ...  0.24693549  0.1825098\n",
            "  -0.4442708 ]\n",
            " [ 0.01080247 -0.44553134  0.35990983 ...  0.31722814  0.23562816\n",
            "  -0.6307057 ]\n",
            " [ 0.29321125 -0.10581951  0.61147505 ...  0.20745873  0.14494638\n",
            "  -0.3535342 ]]\n"
          ]
        }
      ],
      "source": [
        "\n",
        "import tensorflow as tf\n",
        "import tensorflow_hub as hub\n",
        "import tensorflow_text as text\n",
        "\n",
        "preprocess_url = \"https://tfhub.dev/tensorflow/bert_en_uncased_preprocess/3\"\n",
        "encoder_url = \"https://tfhub.dev/tensorflow/bert_en_uncased_L-12_H-768_A-12/4\"\n",
        "\n",
        "bert_preprocess_model = hub.KerasLayer(preprocess_url)\n",
        "bert_model = hub.KerasLayer(encoder_url)\n",
        "\n",
        "text_test = [\"this is such an amazing movie!\"]\n",
        "text_preprocessed = bert_preprocess_model(text_test)\n",
        "\n",
        "print(f\"Keys       : {list(text_preprocessed.keys())}\")\n",
        "print(f\"Shape      : {text_preprocessed['input_word_ids'].shape}\")\n",
        "print(f\"Word Ids   : {text_preprocessed['input_word_ids'][0, :12]}\")\n",
        "print(f\"Input Mask : {text_preprocessed['input_mask'][0, :12]}\")\n",
        "print(f\"Type Ids   : {text_preprocessed['input_type_ids'][0, :12]}\")\n",
        "\n",
        "bert_results = bert_model(text_preprocessed)\n",
        "\n",
        "print(f\"Pooled Outputs Shape:{bert_results['pooled_output'].shape}\")\n",
        "print(f\"Pooled Outputs Values:{bert_results['pooled_output'][0, :12]}\")\n",
        "print(f\"Sequence Outputs Shape:{bert_results['sequence_output'].shape}\")\n",
        "print(f\"Sequence Outputs Values:{bert_results['sequence_output'][0, :12]}\")\n"
      ]
    },
    {
      "cell_type": "code",
      "source": [],
      "metadata": {
        "id": "r07Alj8xkRbd"
      },
      "execution_count": null,
      "outputs": []
    }
  ]
}